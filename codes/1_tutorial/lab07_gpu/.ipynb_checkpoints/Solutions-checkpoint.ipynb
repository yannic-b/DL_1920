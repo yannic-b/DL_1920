{
 "cells": [
  {
   "cell_type": "markdown",
   "metadata": {
    "colab_type": "text",
    "id": "OL5Pt0sgKcKP"
   },
   "source": [
    "# PyTorch - How to use the GPU - Solutions"
   ]
  },
  {
   "cell_type": "code",
   "execution_count": 0,
   "metadata": {
    "colab": {},
    "colab_type": "code",
    "id": "Y538VmgqH7PP"
   },
   "outputs": [],
   "source": [
    "import torch\n",
    "import torch.nn as nn\n",
    "import torch.nn.functional as F\n",
    "import torch.optim as optim"
   ]
  },
  {
   "cell_type": "code",
   "execution_count": 3,
   "metadata": {
    "colab": {
     "base_uri": "https://localhost:8080/",
     "height": 34
    },
    "colab_type": "code",
    "executionInfo": {
     "elapsed": 1049,
     "status": "ok",
     "timestamp": 1573551750279,
     "user": {
      "displayName": "Ron van Bree",
      "photoUrl": "",
      "userId": "10574495138637938052"
     },
     "user_tz": -60
    },
    "id": "cnnUrjaEIvTe",
    "outputId": "43d666f1-23fb-4158-e20e-d1651a62e32e"
   },
   "outputs": [
    {
     "name": "stdout",
     "output_type": "stream",
     "text": [
      "GPU is available!\n"
     ]
    }
   ],
   "source": [
    "if torch.cuda.is_available():\n",
    "  print('GPU is available!')\n",
    "  device = torch.device('cuda')\n",
    "else:\n",
    "  print('GPU is not available!')\n",
    "  device = torch.device('cpu')"
   ]
  },
  {
   "cell_type": "code",
   "execution_count": 0,
   "metadata": {
    "colab": {},
    "colab_type": "code",
    "id": "DumY48me1lFM"
   },
   "outputs": [],
   "source": [
    "# This code does not need to be modified!\n",
    "\n",
    "class TwoLayerNet(nn.Module):\n",
    "\n",
    "    def __init__(self, input_size, hidden_size1, output_size):\n",
    "        super(TwoLayerNet , self).__init__()\n",
    "        \n",
    "        self.layer1 = nn.Linear(input_size, hidden_size1, bias=False)\n",
    "        self.layer2 = nn.Linear(hidden_size1, output_size, bias=False)\n",
    "        \n",
    "    def forward(self, x):\n",
    "        y       = self.layer1(x)\n",
    "        y_hat   = F.relu(y)\n",
    "        z       = self.layer2(y_hat)\n",
    "        return F.softmax(z, dim=1)\n",
    "  "
   ]
  },
  {
   "cell_type": "code",
   "execution_count": 5,
   "metadata": {
    "colab": {
     "base_uri": "https://localhost:8080/",
     "height": 255
    },
    "colab_type": "code",
    "executionInfo": {
     "elapsed": 6304,
     "status": "ok",
     "timestamp": 1573551759540,
     "user": {
      "displayName": "Ron van Bree",
      "photoUrl": "",
      "userId": "10574495138637938052"
     },
     "user_tz": -60
    },
    "id": "4ZOm33Ek0sMz",
    "outputId": "f748a3f5-7203-47cf-c06c-584cd6591842"
   },
   "outputs": [
    {
     "name": "stderr",
     "output_type": "stream",
     "text": [
      "\r",
      "0it [00:00, ?it/s]"
     ]
    },
    {
     "name": "stdout",
     "output_type": "stream",
     "text": [
      "Downloading http://yann.lecun.com/exdb/mnist/train-images-idx3-ubyte.gz to ./data_mnist/MNIST/raw/train-images-idx3-ubyte.gz\n"
     ]
    },
    {
     "name": "stderr",
     "output_type": "stream",
     "text": [
      "9920512it [00:02, 4286610.44it/s]                            \n"
     ]
    },
    {
     "name": "stdout",
     "output_type": "stream",
     "text": [
      "Extracting ./data_mnist/MNIST/raw/train-images-idx3-ubyte.gz to ./data_mnist/MNIST/raw\n"
     ]
    },
    {
     "name": "stderr",
     "output_type": "stream",
     "text": [
      "\r",
      "0it [00:00, ?it/s]"
     ]
    },
    {
     "name": "stdout",
     "output_type": "stream",
     "text": [
      "Downloading http://yann.lecun.com/exdb/mnist/train-labels-idx1-ubyte.gz to ./data_mnist/MNIST/raw/train-labels-idx1-ubyte.gz\n"
     ]
    },
    {
     "name": "stderr",
     "output_type": "stream",
     "text": [
      "32768it [00:00, 58503.86it/s]                           \n",
      "0it [00:00, ?it/s]"
     ]
    },
    {
     "name": "stdout",
     "output_type": "stream",
     "text": [
      "Extracting ./data_mnist/MNIST/raw/train-labels-idx1-ubyte.gz to ./data_mnist/MNIST/raw\n",
      "Downloading http://yann.lecun.com/exdb/mnist/t10k-images-idx3-ubyte.gz to ./data_mnist/MNIST/raw/t10k-images-idx3-ubyte.gz\n"
     ]
    },
    {
     "name": "stderr",
     "output_type": "stream",
     "text": [
      "1654784it [00:01, 959457.18it/s]                             \n",
      "0it [00:00, ?it/s]"
     ]
    },
    {
     "name": "stdout",
     "output_type": "stream",
     "text": [
      "Extracting ./data_mnist/MNIST/raw/t10k-images-idx3-ubyte.gz to ./data_mnist/MNIST/raw\n",
      "Downloading http://yann.lecun.com/exdb/mnist/t10k-labels-idx1-ubyte.gz to ./data_mnist/MNIST/raw/t10k-labels-idx1-ubyte.gz\n"
     ]
    },
    {
     "name": "stderr",
     "output_type": "stream",
     "text": [
      "8192it [00:00, 21805.34it/s]            "
     ]
    },
    {
     "name": "stdout",
     "output_type": "stream",
     "text": [
      "Extracting ./data_mnist/MNIST/raw/t10k-labels-idx1-ubyte.gz to ./data_mnist/MNIST/raw\n",
      "Processing...\n",
      "Done!\n"
     ]
    },
    {
     "name": "stderr",
     "output_type": "stream",
     "text": [
      "\n"
     ]
    }
   ],
   "source": [
    "# This code does not need to be modified!\n",
    "\n",
    "import torchvision.datasets\n",
    "import torchvision.transforms as transforms\n",
    "\n",
    "transform = transforms.Compose([transforms.ToTensor(),\n",
    "                                transforms.Lambda(lambda x: x.squeeze()),\n",
    "                                ])\n",
    "\n",
    "trainset = torchvision.datasets.MNIST(root='./data_mnist',\n",
    "                                      train=True,\n",
    "                                      download=True,\n",
    "                                      transform=transform\n",
    "                                      )\n",
    "\n",
    "testset = torchvision.datasets.MNIST(root='./data_mnist',\n",
    "                                     train=False,\n",
    "                                     download=True,\n",
    "                                     transform=transform\n",
    "                                     )\n",
    "\n"
   ]
  },
  {
   "cell_type": "code",
   "execution_count": 0,
   "metadata": {
    "colab": {},
    "colab_type": "code",
    "id": "zdfdpqBT0sKH"
   },
   "outputs": [],
   "source": [
    "# This code does not need to be modified!\n",
    "\n",
    "bs=128\n",
    "\n",
    "trainloader = torch.utils.data.DataLoader(trainset,\n",
    "                                          batch_size=bs,\n",
    "                                          shuffle=True,\n",
    "                                          drop_last=True\n",
    "                                          )\n",
    "\n",
    "testloader = torch.utils.data.DataLoader(testset,\n",
    "                                         batch_size=bs,\n",
    "                                         shuffle=True,\n",
    "                                         drop_last=True\n",
    "                                         )"
   ]
  },
  {
   "cell_type": "code",
   "execution_count": 0,
   "metadata": {
    "colab": {},
    "colab_type": "code",
    "id": "nTRu0f-m0sD9"
   },
   "outputs": [],
   "source": [
    "\n",
    "net=TwoLayerNet(784, 64, 10).to(device)  # Move the model to GPU\n",
    "\n",
    "criterion = nn.CrossEntropyLoss()\n",
    "optimizer=torch.optim.SGD(net.parameters() , lr=0.1)\n",
    "\n",
    "for epoch in range(1, 5):\n",
    "\n",
    "  for i, (minibatch_data, minibatch_label) in enumerate(trainloader):\n",
    "      minibatch_data, minibatch_label = minibatch_data.to(device), minibatch_label.to(device)  # Move the data to GPU\n",
    "\n",
    "      # Set dL/dU, dL/dV, dL/dW to be filled with zeros\n",
    "      optimizer.zero_grad()\n",
    "      \n",
    "      #reshape the minibatch\n",
    "      inputs = minibatch_data.view(bs, 784)\n",
    "\n",
    "      # forward the minibatch through the net  \n",
    "      prob=net(inputs) \n",
    "      \n",
    "      # Compute the average of the losses of the data points in the minibatch\n",
    "      loss = criterion(prob , minibatch_label) \n",
    "      \n",
    "      # backward pass to compute dL/dU, dL/dV and dL/dW    \n",
    "      loss.backward()\n",
    "      \n",
    "      # do one step of stochastic gradient descent: U=U-lr(dL/dU), V=V-lr(dL/dU), ...\n",
    "      optimizer.step()"
   ]
  },
  {
   "cell_type": "code",
   "execution_count": 13,
   "metadata": {
    "colab": {
     "base_uri": "https://localhost:8080/",
     "height": 486
    },
    "colab_type": "code",
    "executionInfo": {
     "elapsed": 1163,
     "status": "ok",
     "timestamp": 1573551837209,
     "user": {
      "displayName": "Ron van Bree",
      "photoUrl": "",
      "userId": "10574495138637938052"
     },
     "user_tz": -60
    },
    "id": "c4zHiewpH7Mt",
    "outputId": "2469b455-be5f-41f8-918f-0f6bf74dafd0"
   },
   "outputs": [
    {
     "data": {
      "image/png": "[encoded data removed]",
      "text/plain": [
       "<Figure size 432x288 with 1 Axes>"
      ]
     },
     "metadata": {
      "tags": []
     },
     "output_type": "display_data"
    },
    {
     "name": "stdout",
     "output_type": "stream",
     "text": [
      "Confidence scores:\n",
      "0: 4.893497134617064e-06\n",
      "1: 6.540875046451289e-12\n",
      "2: 2.0844339587711147e-08\n",
      "3: 5.1918670751494034e-11\n",
      "4: 0.9993140697479248\n",
      "5: 1.480366972828051e-05\n",
      "6: 6.156947347335517e-05\n",
      "7: 2.513737911158387e-07\n",
      "8: 8.688008165336214e-06\n",
      "9: 0.0005957407993264496\n",
      "\n",
      "Label with highest confidence score: 4\n"
     ]
    }
   ],
   "source": [
    "# This code does not need to be modified!\n",
    "\n",
    "%matplotlib inline\n",
    "\n",
    "import numpy as np\n",
    "import matplotlib.pyplot as plt\n",
    "\n",
    "# choose a picture at random\n",
    "im_minibatch, label_minibatch = iter(testloader).next()\n",
    "im, label = im_minibatch[0].cpu(), label_minibatch[0].cpu()\n",
    "\n",
    "# Function to show an image tensor\n",
    "def show(X):\n",
    "    if X.dim() == 3 and X.size(2) == 3:\n",
    "        plt.imshow(X.numpy())\n",
    "        plt.show()\n",
    "    elif X.dim() == 2:\n",
    "        plt.imshow(   X.numpy() , cmap='gray'  )\n",
    "        plt.show()\n",
    "    else:\n",
    "        print('WRONG TENSOR SIZE')\n",
    "\n",
    "# diplay the picture\n",
    "show(im)\n",
    "\n",
    "# feed it to the net and display the confidence scores\n",
    "prob = net.cpu()(im.view(1,784)) \n",
    "\n",
    "print('Confidence scores:\\n' + '\\n'.join(['{}: {}'.format(i, p.item()) for i, p in enumerate(prob.squeeze())]))\n",
    "\n",
    "print('\\nLabel with highest confidence score: {}'.format(torch.argmax(prob).item()))\n"
   ]
  }
 ],
 "metadata": {
  "accelerator": "GPU",
  "colab": {
   "collapsed_sections": [],
   "name": "Solutions.ipynb",
   "provenance": []
  },
  "kernelspec": {
   "display_name": "Python 3",
   "language": "python",
   "name": "python3"
  },
  "language_info": {
   "codemirror_mode": {
    "name": "ipython",
    "version": 3
   },
   "file_extension": ".py",
   "mimetype": "text/x-python",
   "name": "python",
   "nbconvert_exporter": "python",
   "pygments_lexer": "ipython3",
   "version": "3.7.5"
  }
 },
 "nbformat": 4,
 "nbformat_minor": 1
}
