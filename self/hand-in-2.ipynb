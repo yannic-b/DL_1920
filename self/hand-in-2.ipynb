{
 "cells": [
  {
   "cell_type": "code",
   "execution_count": 1,
   "outputs": [],
   "source": [
    "import torch\n",
    "import torch.nn as nn\n",
    "import torch.nn.functional as F\n",
    "import torch.optim as optim"
   ],
   "metadata": {
    "collapsed": false,
    "pycharm": {
     "name": "#%%\n",
     "is_executing": false
    }
   }
  },
  {
   "cell_type": "code",
   "execution_count": 2,
   "outputs": [],
   "source": [
    "# This code does not need to be modified!\n",
    "\n",
    "import torchvision.datasets\n",
    "import torchvision.transforms as transforms\n",
    "\n",
    "transform = transforms.Compose([transforms.ToTensor(),\n",
    "                                transforms.Lambda(lambda x: x.squeeze()),\n",
    "                                ])\n",
    "\n",
    "trainset = torchvision.datasets.MNIST(root='./data_mnist',\n",
    "                                      train=True,\n",
    "                                      download=True,\n",
    "                                      transform=transform\n",
    "                                      )\n",
    "\n",
    "testset = torchvision.datasets.MNIST(root='./data_mnist',\n",
    "                                     train=False,\n",
    "                                     download=True,\n",
    "                                     transform=transform\n",
    "                                     )\n",
    "\n"
   ],
   "metadata": {
    "collapsed": false,
    "pycharm": {
     "name": "#%%\n",
     "is_executing": false
    }
   }
  },
  {
   "cell_type": "code",
   "execution_count": 3,
   "outputs": [],
   "source": [
    "# This code does not need to be modified!\n",
    "\n",
    "bs=128\n",
    "\n",
    "trainloader = torch.utils.data.DataLoader(trainset,\n",
    "                                          batch_size=bs,\n",
    "                                          shuffle=True,\n",
    "                                          drop_last=True\n",
    "                                          )\n",
    "\n",
    "testloader = torch.utils.data.DataLoader(testset,\n",
    "                                         batch_size=bs,\n",
    "                                         shuffle=True,\n",
    "                                         drop_last=True\n",
    "                                         )"
   ],
   "metadata": {
    "collapsed": false,
    "pycharm": {
     "name": "#%%\n",
     "is_executing": false
    }
   }
  },
  {
   "cell_type": "code",
   "execution_count": 4,
   "outputs": [
    {
     "name": "stdout",
     "text": [
      "GPU is available!\n"
     ],
     "output_type": "stream"
    }
   ],
   "source": [
    "if torch.cuda.is_available():\n",
    "  print('GPU is available!')\n",
    "  device = torch.device('cuda')\n",
    "else:\n",
    "  print('GPU is not available!')\n",
    "  device = torch.device('cpu')"
   ],
   "metadata": {
    "collapsed": false,
    "pycharm": {
     "name": "#%%\n",
     "is_executing": false
    }
   }
  },
  {
   "cell_type": "code",
   "execution_count": 5,
   "outputs": [],
   "source": [
    "# This code does not need to be modified!\n",
    "\n",
    "class TwoLayerNet(nn.Module):\n",
    "\n",
    "    def __init__(self, input_size, hidden_size1, output_size):\n",
    "        super(TwoLayerNet , self).__init__()\n",
    "        \n",
    "        self.layer1 = nn.Linear(input_size, hidden_size1, bias=False)\n",
    "        self.layer2 = nn.Linear(hidden_size1, output_size, bias=False)\n",
    "        \n",
    "    def forward(self, x):\n",
    "        y       = self.layer1(x)\n",
    "        y_hat   = F.relu(y)\n",
    "        z       = self.layer2(y_hat)\n",
    "        return F.softmax(z, dim=1)\n",
    "  "
   ],
   "metadata": {
    "collapsed": false,
    "pycharm": {
     "name": "#%%\n",
     "is_executing": false
    }
   }
  },
  {
   "cell_type": "code",
   "execution_count": null,
   "outputs": [],
   "source": [
    "net=TwoLayerNet(784, 64, 10).to(device)  # Move the model to GPU\n",
    "\n",
    "criterion = nn.CrossEntropyLoss()\n",
    "optimizer=torch.optim.SGD(net.parameters() , lr=0.1)\n",
    "# optimizer=torch.optim.Adam(net.parameters())\n",
    "\n",
    "results = []\n",
    "\n",
    "for epoch in range(0, 17):\n",
    "    print(\"Starting epoch: \", epoch)\n",
    "    if epoch > 0:\n",
    "        for i, (minibatch_data, minibatch_label) in enumerate(trainloader):\n",
    "              minibatch_data, minibatch_label = minibatch_data.to(device), minibatch_label.to(device)  # Move the data to GPU\n",
    "        \n",
    "              # Set dL/dU, dL/dV, dL/dW to be filled with zeros\n",
    "              optimizer.zero_grad()\n",
    "              \n",
    "              #reshape the minibatch\n",
    "              inputs = minibatch_data.view(bs, 784)\n",
    "        \n",
    "              # forward the minibatch through the net  \n",
    "              prob=net(inputs) \n",
    "              \n",
    "              # Compute the average of the losses of the data points in the minibatch\n",
    "              loss = criterion(prob , minibatch_label) \n",
    "              \n",
    "              # backward pass to compute dL/dU, dL/dV and dL/dW    \n",
    "              loss.backward()\n",
    "              \n",
    "              # do one step of stochastic gradient descent: U=U-lr(dL/dU), V=V-lr(dL/dU), ...\n",
    "              optimizer.step()\n",
    "      \n",
    "    # Evaluate the model on the test set\n",
    "    print(\"Finished training, starting evaluation...\")\n",
    "    correct_total = 0\n",
    "    for i, (x_batch, y_batch) in enumerate(testloader):\n",
    "            x_batch, y_batch = x_batch.to(device), y_batch.to(device)  # Move the data to the device that is used\n",
    "        \n",
    "            y_pred = net(x_batch.view(bs, 784))\n",
    "            y_pred_max = torch.argmax(y_pred, dim=1)\n",
    "        \n",
    "            correct_total += torch.sum(torch.eq(y_pred_max, y_batch)).item()\n",
    "    accuracy = correct_total / len(testset.data)\n",
    "    print(accuracy)\n",
    "    results.append((epoch, accuracy))"
   ],
   "metadata": {
    "collapsed": false,
    "pycharm": {
     "name": "#%%\n"
    }
   }
  },
  {
   "cell_type": "code",
   "execution_count": 8,
   "outputs": [],
   "source": [
    "class SLayerNet(nn.Module):\n",
    "\n",
    "    def __init__(self, input_size, hidden_size, layers, output_size):\n",
    "        super(SLayerNet , self).__init__()\n",
    "        self.nr_l = layers\n",
    "        self.layer1 = nn.Linear(input_size, hidden_size, bias=False)\n",
    "        self.layerS = nn.Linear(hidden_size, hidden_size, bias=False)\n",
    "        self.layer2 = nn.Linear(hidden_size, output_size, bias=False)\n",
    "        \n",
    "    def forward(self, x):\n",
    "        y       = self.layer1(x)\n",
    "        y_hat   = F.relu(y)\n",
    "        h_hat = y_hat\n",
    "        for s in range(self.nr_l):\n",
    "            h = self.layerS(h_hat)\n",
    "            h_hat = F.relu(h)\n",
    "        z = self.layer2(h_hat)\n",
    "        return F.softmax(z, dim=1)"
   ],
   "metadata": {
    "collapsed": false,
    "pycharm": {
     "name": "#%%\n",
     "is_executing": false
    }
   }
  },
  {
   "cell_type": "code",
   "execution_count": 9,
   "outputs": [
    {
     "name": "stdout",
     "text": [
      "Starting epoch:  0\n",
      "Starting epoch:  1\n",
      "Starting epoch:  2\n",
      "Starting epoch:  3\n",
      "Starting epoch:  4\n",
      "Starting epoch:  5\n",
      "Starting epoch:  6\n",
      "Starting epoch:  7\n",
      "Starting epoch:  8\n",
      "Starting epoch:  9\n",
      "Starting epoch:  10\n",
      "Starting epoch:  11\n",
      "Starting epoch:  12\n",
      "Starting epoch:  13\n",
      "Starting epoch:  14\n",
      "Starting epoch:  15\n",
      "Starting epoch:  16\n",
      "Finished training, starting evaluation...\n",
      "0.9688\n",
      "Starting epoch:  0\n",
      "Starting epoch:  1\n",
      "Starting epoch:  2\n",
      "Starting epoch:  3\n",
      "Starting epoch:  4\n",
      "Starting epoch:  5\n",
      "Starting epoch:  6\n",
      "Starting epoch:  7\n",
      "Starting epoch:  8\n",
      "Starting epoch:  9\n",
      "Starting epoch:  10\n",
      "Starting epoch:  11\n",
      "Starting epoch:  12\n",
      "Starting epoch:  13\n",
      "Starting epoch:  14\n",
      "Starting epoch:  15\n",
      "Starting epoch:  16\n",
      "Finished training, starting evaluation...\n",
      "0.9642\n",
      "Starting epoch:  0\n",
      "Starting epoch:  1\n",
      "Starting epoch:  2\n",
      "Starting epoch:  3\n",
      "Starting epoch:  4\n",
      "Starting epoch:  5\n",
      "Starting epoch:  6\n",
      "Starting epoch:  7\n",
      "Starting epoch:  8\n",
      "Starting epoch:  9\n",
      "Starting epoch:  10\n",
      "Starting epoch:  11\n",
      "Starting epoch:  12\n",
      "Starting epoch:  13\n",
      "Starting epoch:  14\n",
      "Starting epoch:  15\n",
      "Starting epoch:  16\n",
      "Finished training, starting evaluation...\n",
      "0.9605\n",
      "Starting epoch:  0\n",
      "Starting epoch:  1\n",
      "Starting epoch:  2\n",
      "Starting epoch:  3\n",
      "Starting epoch:  4\n",
      "Starting epoch:  5\n",
      "Starting epoch:  6\n",
      "Starting epoch:  7\n",
      "Starting epoch:  8\n",
      "Starting epoch:  9\n",
      "Starting epoch:  10\n",
      "Starting epoch:  11\n",
      "Starting epoch:  12\n",
      "Starting epoch:  13\n",
      "Starting epoch:  14\n",
      "Starting epoch:  15\n",
      "Starting epoch:  16\n",
      "Finished training, starting evaluation...\n",
      "0.9655\n",
      "Starting epoch:  0\n",
      "Starting epoch:  1\n",
      "Starting epoch:  2\n",
      "Starting epoch:  3\n",
      "Starting epoch:  4\n",
      "Starting epoch:  5\n",
      "Starting epoch:  6\n",
      "Starting epoch:  7\n",
      "Starting epoch:  8\n",
      "Starting epoch:  9\n",
      "Starting epoch:  10\n",
      "Starting epoch:  11\n",
      "Starting epoch:  12\n",
      "Starting epoch:  13\n",
      "Starting epoch:  14\n",
      "Starting epoch:  15\n",
      "Starting epoch:  16\n",
      "Finished training, starting evaluation...\n",
      "0.9529\n"
     ],
     "output_type": "stream"
    }
   ],
   "source": [
    "results = []\n",
    "for l in range(1,6):\n",
    "    net=SLayerNet(784, 64, l, 10).to(device)  # Move the model to GPU\n",
    "    \n",
    "    criterion = nn.CrossEntropyLoss()\n",
    "    # optimizer=torch.optim.SGD(net.parameters() , lr=0.1)\n",
    "    optimizer=torch.optim.Adam(net.parameters())\n",
    "    \n",
    "    for epoch in range(0, 17):\n",
    "        print(\"Starting epoch: \", epoch)\n",
    "        for i, (minibatch_data, minibatch_label) in enumerate(trainloader):\n",
    "              minibatch_data, minibatch_label = minibatch_data.to(device), minibatch_label.to(device)  # Move the data to GPU\n",
    "        \n",
    "              # Set dL/dU, dL/dV, dL/dW to be filled with zeros\n",
    "              optimizer.zero_grad()\n",
    "              \n",
    "              #reshape the minibatch\n",
    "              inputs = minibatch_data.view(bs, 784)\n",
    "        \n",
    "              # forward the minibatch through the net  \n",
    "              prob=net(inputs) \n",
    "              \n",
    "              # Compute the average of the losses of the data points in the minibatch\n",
    "              loss = criterion(prob , minibatch_label) \n",
    "              \n",
    "              # backward pass to compute dL/dU, dL/dV and dL/dW    \n",
    "              loss.backward()\n",
    "              \n",
    "              # do one step of stochastic gradient descent: U=U-lr(dL/dU), V=V-lr(dL/dU), ...\n",
    "              optimizer.step()\n",
    "      \n",
    "    # Evaluate the model on the test set\n",
    "    print(\"Finished training, starting evaluation...\")\n",
    "    correct_total = 0\n",
    "    for i, (x_batch, y_batch) in enumerate(testloader):\n",
    "            x_batch, y_batch = x_batch.to(device), y_batch.to(device)  # Move the data to the device that is used\n",
    "        \n",
    "            y_pred = net(x_batch.view(bs, 784))\n",
    "            y_pred_max = torch.argmax(y_pred, dim=1)\n",
    "        \n",
    "            correct_total += torch.sum(torch.eq(y_pred_max, y_batch)).item()\n",
    "    accuracy = correct_total / len(testset.data)\n",
    "    print(accuracy)\n",
    "    results.append((l, accuracy))"
   ],
   "metadata": {
    "collapsed": false,
    "pycharm": {
     "name": "#%%\n",
     "is_executing": false
    }
   }
  },
  {
   "cell_type": "code",
   "execution_count": 12,
   "outputs": [
    {
     "data": {
      "text/plain": "<Figure size 432x288 with 1 Axes>",
      "image/png": "[encoded data removed]"
     },
     "metadata": {
      "needs_background": "light"
     },
     "output_type": "display_data"
    }
   ],
   "source": [
    "# This code does not need to be modified!\n",
    "\n",
    "%matplotlib inline\n",
    "\n",
    "import numpy as np\n",
    "import matplotlib.pyplot as plt\n",
    "\n",
    "plt.plot(*zip(*results))\n",
    "plt.ylim([0,1])\n",
    "plt.ylabel(\"Accuracy\")\n",
    "if type(net) is SLayerNet:\n",
    "    plt.xlabel(\"Number of hidden layers\")\n",
    "    plt.xticks(np.arange(1, 6, step=1))\n",
    "else:\n",
    "    plt.xlabel(\"Number of Epochs\")\n",
    "    plt.xticks(np.arange(1, 17, step=1))\n",
    "opti_name = optimizer.__class__.__name__\n",
    "plt.text(5, 0.9, opti_name, horizontalalignment='center', verticalalignment='center')\n",
    "# plt.savefig('./figs/%s_acc-vs-epochs.png' % opti_name)\n",
    "plt.savefig('./figs/%s_acc-vs-layers.png' % opti_name)\n",
    "# plt.show()\n"
   ],
   "metadata": {
    "collapsed": false,
    "pycharm": {
     "name": "#%%\n",
     "is_executing": false
    }
   }
  }
 ],
 "metadata": {
  "kernelspec": {
   "name": "pycharm-76f97117",
   "language": "python",
   "display_name": "PyCharm (DL_1920)"
  },
  "language_info": {
   "codemirror_mode": {
    "name": "ipython",
    "version": 2
   },
   "file_extension": ".py",
   "mimetype": "text/x-python",
   "name": "python",
   "nbconvert_exporter": "python",
   "pygments_lexer": "ipython2",
   "version": "2.7.6"
  },
  "pycharm": {
   "stem_cell": {
    "cell_type": "raw",
    "source": [],
    "metadata": {
     "collapsed": false
    }
   }
  }
 },
 "nbformat": 4,
 "nbformat_minor": 0
}